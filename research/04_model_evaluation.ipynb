{
 "cells": [
  {
   "cell_type": "code",
   "execution_count": 2,
   "metadata": {},
   "outputs": [],
   "source": [
    "import os\n"
   ]
  },
  {
   "cell_type": "code",
   "execution_count": 3,
   "metadata": {},
   "outputs": [
    {
     "data": {
      "text/plain": [
       "'d:\\\\Electricity-Consumption-Prediction\\\\research'"
      ]
     },
     "execution_count": 3,
     "metadata": {},
     "output_type": "execute_result"
    }
   ],
   "source": [
    "pwd"
   ]
  },
  {
   "cell_type": "code",
   "execution_count": null,
   "metadata": {},
   "outputs": [],
   "source": []
  },
  {
   "cell_type": "code",
   "execution_count": 4,
   "metadata": {},
   "outputs": [],
   "source": [
    "os.chdir('../')"
   ]
  },
  {
   "cell_type": "code",
   "execution_count": 5,
   "metadata": {},
   "outputs": [],
   "source": [
    "os.environ[\"MLFLOW_TRACKING_URI\"] = \"https://dagshub.com/kunj0818/Electricity-Consumption-Prediction.mlflow\"\n",
    "os.environ[\"MLFLOW_TRACKING_USERNAME\"] = \"kunj0818\"\n",
    "os.environ[\"MLFLOW_TRACKING_PASSWORD\"] = \"49165db3b345b8bf5cd0f2234f443391b08e9c98\""
   ]
  },
  {
   "cell_type": "code",
   "execution_count": 6,
   "metadata": {},
   "outputs": [],
   "source": [
    "import tensorflow as tf"
   ]
  },
  {
   "cell_type": "code",
   "execution_count": 7,
   "metadata": {},
   "outputs": [],
   "source": [
    "model = tf.keras.models.load_model((\"artifacts/training/model.h5\"))"
   ]
  },
  {
   "cell_type": "code",
   "execution_count": 8,
   "metadata": {},
   "outputs": [],
   "source": [
    "from dataclasses import dataclass\n",
    "from pathlib import Path\n",
    "\n",
    "@dataclass(frozen=True)\n",
    "class EvaluationConfig:\n",
    "    path_of_model: Path\n",
    "    training_data: Path\n",
    "    all_params: dict\n",
    "    mlflow_uri: str\n"
   ]
  },
  {
   "cell_type": "code",
   "execution_count": 9,
   "metadata": {},
   "outputs": [],
   "source": [
    "from electrycityconsumption.constants.constants import CONFIG_FILE_PATH, PARAMS_FILE_PATH\n",
    "from electrycityconsumption.utils.common import read_yaml, create_directories\n",
    "from electrycityconsumption.utils.common import save_json\n",
    "\n",
    "class ConfigurationManager:\n",
    "    def __init__(self, config_filepath=CONFIG_FILE_PATH, params_filepath=PARAMS_FILE_PATH):\n",
    "        self.config = read_yaml(config_filepath)\n",
    "        self.params = read_yaml(params_filepath)\n",
    "        create_directories([self.config.artifacts_root])\n",
    "\n",
    "    def get_evaluation_config(self) -> EvaluationConfig:\n",
    "        eval_config = EvaluationConfig(\n",
    "            path_of_model=\"artifacts/training/model.h5\",\n",
    "            training_data=\"artifacts/data_ingestion/cleaned_data1.csv\",\n",
    "            mlflow_uri=\"https://dagshub.com/kunj0818/Electricity-Consumption-Prediction.mlflow\",\n",
    "            all_params=self.params\n",
    "        )\n",
    "        return eval_config"
   ]
  },
  {
   "cell_type": "code",
   "execution_count": 10,
   "metadata": {},
   "outputs": [],
   "source": [
    "import tensorflow as tf\n",
    "from pathlib import Path\n",
    "import mlflow\n",
    "import pandas as pd\n",
    "import mlflow.keras\n",
    "from urllib.parse import urlparse\n",
    "from sklearn.model_selection import"
   ]
  },
  {
   "cell_type": "code",
   "execution_count": 15,
   "metadata": {},
   "outputs": [],
   "source": [
    "class Evaluation:\n",
    "    def __init__(self, config: EvaluationConfig):\n",
    "        self.config = config\n",
    "\n",
    "    def load_training_data(self,training_data_path):\n",
    "        try:\n",
    "            # Load your training data from the provided CSV file\n",
    "            data = pd.read_csv(training_data_path)\n",
    "\n",
    "            # Assuming your data has columns for features and a target variable 'Usage_kWh'\n",
    "            # Replace with the actual column names from your data\n",
    "            X = data.drop(columns=['Usage_kWh'])  # Exclude the target variable\n",
    "            y = data['Usage_kWh']  # Target variable\n",
    "            X_train, X_valid, y_train, y_valid = train_test_split(X, y, test_size=0.2, random_state=42)\n",
    "            X_train = tf.convert_to_tensor(X_train, dtype=tf.float32)\n",
    "            X_valid = tf.convert_to_tensor(X_valid, dtype=tf.float32)\n",
    "            y_train = tf.convert_to_tensor(y_train, dtype=tf.float32)\n",
    "            y_valid = tf.convert_to_tensor(y_valid, dtype=tf.float32)\n",
    "            X_train = tf.reshape(X_train, [-1, 32, 14])\n",
    "            y_train = tf.reshape(y_train, [-1, 32, 1])\n",
    "            X_valid = tf.reshape(X_valid, [-1, 32, 14])\n",
    "            y_valid = tf.reshape(y_valid, [-1, 32, 1])\n",
    "          \n",
    "\n",
    "            return X_valid,y_valid\n",
    "        except Exception as e:\n",
    "            print(f\"Error loading training data: {str(e)}\")\n",
    "            return None, None\n",
    "\n",
    "    @staticmethod\n",
    "    def load_model(path: Path) -> tf.keras.Model:\n",
    "        return tf.keras.models.load_model(path)\n",
    "    \n",
    "    def evaluation(self):\n",
    "        self.model = self.load_model(self.config.path_of_model)\n",
    "        X_valid, y_valid = self.load_training_data(self.config.training_data)\n",
    "        self.score = self.model.evaluate(X_valid, y_valid)\n",
    "        self.save_score()\n",
    "\n",
    "    def save_score(self):\n",
    "        scores = {\"score\": self.score}\n",
    "        save_json(path=Path(\"scores.json\"), data=scores)\n",
    "\n",
    "    \n",
    "    def log_into_mlflow(self):\n",
    "        mlflow.set_registry_uri(self.config.mlflow_uri)\n",
    "        tracking_url_type_store = urlparse(mlflow.get_tracking_uri()).scheme\n",
    "        \n",
    "        with mlflow.start_run():\n",
    "            mlflow.log_params(self.config.all_params)\n",
    "            mlflow.log_metrics(\n",
    "                {\"loss\": self.score[0], \"accuracy\": self.score[1]}\n",
    "            )\n",
    "            # Model registry does not work with file store\n",
    "            if tracking_url_type_store != \"file\":\n",
    "\n",
    "                # Register the model\n",
    "                # There are other ways to use the Model Registry, which depends on the use case,\n",
    "                # please refer to the doc for more information:\n",
    "                # https://mlflow.org/docs/latest/model-registry.html#api-workflow\n",
    "                mlflow.keras.log_model(self.model, \"model\", registered_model_name=\"LSTMmodel\")\n",
    "            else:\n",
    "                mlflow.keras.log_model(self.model, \"model\")\n"
   ]
  },
  {
   "cell_type": "code",
   "execution_count": 16,
   "metadata": {},
   "outputs": [
    {
     "name": "stdout",
     "output_type": "stream",
     "text": [
      "2023-10-26 16:50:31,814: INFO : common :yaml file: electrycityconsumption\\config\\config.yaml loaded successfully\n",
      "2023-10-26 16:50:31,823: INFO : common :yaml file: electrycityconsumption\\params.yaml loaded successfully\n",
      "2023-10-26 16:50:31,833: INFO : common :created directory at: artifacts\n"
     ]
    },
    {
     "name": "stdout",
     "output_type": "stream",
     "text": [
      "7/7 [==============================] - 2s 17ms/step - loss: 1.0179\n"
     ]
    },
    {
     "ename": "TypeError",
     "evalue": "'float' object is not subscriptable",
     "output_type": "error",
     "traceback": [
      "\u001b[1;31m---------------------------------------------------------------------------\u001b[0m",
      "\u001b[1;31mTypeError\u001b[0m                                 Traceback (most recent call last)",
      "\u001b[1;32md:\\Electricity-Consumption-Prediction\\research\\04_model_evaluation.ipynb Cell 12\u001b[0m line \u001b[0;36m<cell line: 1>\u001b[1;34m()\u001b[0m\n\u001b[0;32m      <a href='vscode-notebook-cell:/d%3A/Electricity-Consumption-Prediction/research/04_model_evaluation.ipynb#X14sZmlsZQ%3D%3D?line=5'>6</a>\u001b[0m     evaluation\u001b[39m.\u001b[39mlog_into_mlflow()\n\u001b[0;32m      <a href='vscode-notebook-cell:/d%3A/Electricity-Consumption-Prediction/research/04_model_evaluation.ipynb#X14sZmlsZQ%3D%3D?line=7'>8</a>\u001b[0m \u001b[39mexcept\u001b[39;00m \u001b[39mException\u001b[39;00m \u001b[39mas\u001b[39;00m e:\n\u001b[1;32m----> <a href='vscode-notebook-cell:/d%3A/Electricity-Consumption-Prediction/research/04_model_evaluation.ipynb#X14sZmlsZQ%3D%3D?line=8'>9</a>\u001b[0m    \u001b[39mraise\u001b[39;00m e\n",
      "\u001b[1;32md:\\Electricity-Consumption-Prediction\\research\\04_model_evaluation.ipynb Cell 12\u001b[0m line \u001b[0;36m<cell line: 1>\u001b[1;34m()\u001b[0m\n\u001b[0;32m      <a href='vscode-notebook-cell:/d%3A/Electricity-Consumption-Prediction/research/04_model_evaluation.ipynb#X14sZmlsZQ%3D%3D?line=2'>3</a>\u001b[0m     eval_config \u001b[39m=\u001b[39m config\u001b[39m.\u001b[39mget_evaluation_config()\n\u001b[0;32m      <a href='vscode-notebook-cell:/d%3A/Electricity-Consumption-Prediction/research/04_model_evaluation.ipynb#X14sZmlsZQ%3D%3D?line=3'>4</a>\u001b[0m     evaluation \u001b[39m=\u001b[39m Evaluation(eval_config)\n\u001b[1;32m----> <a href='vscode-notebook-cell:/d%3A/Electricity-Consumption-Prediction/research/04_model_evaluation.ipynb#X14sZmlsZQ%3D%3D?line=4'>5</a>\u001b[0m     evaluation\u001b[39m.\u001b[39;49mevaluation()\n\u001b[0;32m      <a href='vscode-notebook-cell:/d%3A/Electricity-Consumption-Prediction/research/04_model_evaluation.ipynb#X14sZmlsZQ%3D%3D?line=5'>6</a>\u001b[0m     evaluation\u001b[39m.\u001b[39mlog_into_mlflow()\n\u001b[0;32m      <a href='vscode-notebook-cell:/d%3A/Electricity-Consumption-Prediction/research/04_model_evaluation.ipynb#X14sZmlsZQ%3D%3D?line=7'>8</a>\u001b[0m \u001b[39mexcept\u001b[39;00m \u001b[39mException\u001b[39;00m \u001b[39mas\u001b[39;00m e:\n",
      "\u001b[1;32md:\\Electricity-Consumption-Prediction\\research\\04_model_evaluation.ipynb Cell 12\u001b[0m line \u001b[0;36mEvaluation.evaluation\u001b[1;34m(self)\u001b[0m\n\u001b[0;32m     <a href='vscode-notebook-cell:/d%3A/Electricity-Consumption-Prediction/research/04_model_evaluation.ipynb#X14sZmlsZQ%3D%3D?line=35'>36</a>\u001b[0m X_valid, y_valid \u001b[39m=\u001b[39m \u001b[39mself\u001b[39m\u001b[39m.\u001b[39mload_training_data(\u001b[39mself\u001b[39m\u001b[39m.\u001b[39mconfig\u001b[39m.\u001b[39mtraining_data)\n\u001b[0;32m     <a href='vscode-notebook-cell:/d%3A/Electricity-Consumption-Prediction/research/04_model_evaluation.ipynb#X14sZmlsZQ%3D%3D?line=36'>37</a>\u001b[0m \u001b[39mself\u001b[39m\u001b[39m.\u001b[39mscore \u001b[39m=\u001b[39m \u001b[39mself\u001b[39m\u001b[39m.\u001b[39mmodel\u001b[39m.\u001b[39mevaluate(X_valid, y_valid)\n\u001b[1;32m---> <a href='vscode-notebook-cell:/d%3A/Electricity-Consumption-Prediction/research/04_model_evaluation.ipynb#X14sZmlsZQ%3D%3D?line=37'>38</a>\u001b[0m \u001b[39mself\u001b[39;49m\u001b[39m.\u001b[39;49msave_score()\n",
      "\u001b[1;32md:\\Electricity-Consumption-Prediction\\research\\04_model_evaluation.ipynb Cell 12\u001b[0m line \u001b[0;36mEvaluation.save_score\u001b[1;34m(self)\u001b[0m\n\u001b[0;32m     <a href='vscode-notebook-cell:/d%3A/Electricity-Consumption-Prediction/research/04_model_evaluation.ipynb#X14sZmlsZQ%3D%3D?line=39'>40</a>\u001b[0m \u001b[39mdef\u001b[39;00m \u001b[39msave_score\u001b[39m(\u001b[39mself\u001b[39m):\n\u001b[1;32m---> <a href='vscode-notebook-cell:/d%3A/Electricity-Consumption-Prediction/research/04_model_evaluation.ipynb#X14sZmlsZQ%3D%3D?line=40'>41</a>\u001b[0m     scores \u001b[39m=\u001b[39m {\u001b[39m\"\u001b[39m\u001b[39mloss\u001b[39m\u001b[39m\"\u001b[39m: \u001b[39mself\u001b[39;49m\u001b[39m.\u001b[39;49mscore[\u001b[39m0\u001b[39;49m], \u001b[39m\"\u001b[39m\u001b[39maccuracy\u001b[39m\u001b[39m\"\u001b[39m: \u001b[39mself\u001b[39m\u001b[39m.\u001b[39mscore[\u001b[39m1\u001b[39m]}\n\u001b[0;32m     <a href='vscode-notebook-cell:/d%3A/Electricity-Consumption-Prediction/research/04_model_evaluation.ipynb#X14sZmlsZQ%3D%3D?line=41'>42</a>\u001b[0m     save_json(path\u001b[39m=\u001b[39mPath(\u001b[39m\"\u001b[39m\u001b[39mscores.json\u001b[39m\u001b[39m\"\u001b[39m), data\u001b[39m=\u001b[39mscores)\n",
      "\u001b[1;31mTypeError\u001b[0m: 'float' object is not subscriptable"
     ]
    }
   ],
   "source": [
    "try:\n",
    "    config = ConfigurationManager()\n",
    "    eval_config = config.get_evaluation_config()\n",
    "    evaluation = Evaluation(eval_config)\n",
    "    evaluation.evaluation()\n",
    "    evaluation.log_into_mlflow()\n",
    "\n",
    "except Exception as e:\n",
    "   raise e"
   ]
  }
 ],
 "metadata": {
  "kernelspec": {
   "display_name": "pyspark_env",
   "language": "python",
   "name": "pyspark_env"
  },
  "language_info": {
   "codemirror_mode": {
    "name": "ipython",
    "version": 3
   },
   "file_extension": ".py",
   "mimetype": "text/x-python",
   "name": "python",
   "nbconvert_exporter": "python",
   "pygments_lexer": "ipython3",
   "version": "3.10.6"
  }
 },
 "nbformat": 4,
 "nbformat_minor": 2
}
