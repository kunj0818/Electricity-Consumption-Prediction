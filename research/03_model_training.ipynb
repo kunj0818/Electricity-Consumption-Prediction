{
 "cells": [
  {
   "cell_type": "code",
   "execution_count": 28,
   "metadata": {},
   "outputs": [
    {
     "data": {
      "text/plain": [
       "'d:\\\\Electricity-Consumption-Prediction'"
      ]
     },
     "execution_count": 28,
     "metadata": {},
     "output_type": "execute_result"
    }
   ],
   "source": [
    "import os\n",
    "os.getcwd()\n"
   ]
  },
  {
   "cell_type": "code",
   "execution_count": 29,
   "metadata": {},
   "outputs": [],
   "source": [
    "#os.chdir(path='Electricity-Consumption-Prediction')"
   ]
  },
  {
   "cell_type": "code",
   "execution_count": 31,
   "metadata": {},
   "outputs": [],
   "source": [
    "from dataclasses import dataclass\n",
    "from pathlib import Path\n",
    "\n",
    "@dataclass(frozen=True)\n",
    "class TrainingConfig:\n",
    "    root_dir : Path\n",
    "    trained_model_path : Path\n",
    "    base_model_path : Path\n",
    "    training_data : Path\n",
    "    params_epochs : int\n",
    "    params_batch_size : int\n",
    "    params_loss_function : str\n",
    "    params_optimizer : str"
   ]
  },
  {
   "cell_type": "code",
   "execution_count": null,
   "metadata": {},
   "outputs": [],
   "source": []
  },
  {
   "cell_type": "code",
   "execution_count": 32,
   "metadata": {},
   "outputs": [],
   "source": [
    "from electrycityconsumption.constants.constants import CONFIG_FILE_PATH, PARAMS_FILE_PATH\n",
    "from electrycityconsumption.utils.common import read_yaml, create_directories\n",
    "\n",
    "class ConfigurationManager:\n",
    "    def __init__(self, config_filepath=CONFIG_FILE_PATH, params_filepath=PARAMS_FILE_PATH):\n",
    "        self.config = read_yaml(config_filepath)\n",
    "        self.params = read_yaml(params_filepath)\n",
    "        create_directories([self.config.artifacts_root])\n",
    "    def get_training_config(self) -> TrainingConfig:\n",
    "        training = self.config.training_model\n",
    "        prepare_base_model = self.config.prepare_base_model\n",
    "        params = self.params\n",
    "        training_data = Path(self.config.data_ingestion.local_data_path)\n",
    "       \n",
    "\n",
    "        training_config = TrainingConfig(\n",
    "            root_dir=Path(training.root_dir),\n",
    "            trained_model_path=Path(training.trained_model_path),\n",
    "            base_model_path=Path(prepare_base_model.base_model_path),\n",
    "            training_data= training_data,\n",
    "            params_epochs=params.EPOCHS,\n",
    "            params_batch_size=params.BATCH_SIZE,\n",
    "            params_loss_function=params.LOSS_FUNCTION,\n",
    "            params_optimizer=params.OPTIMIZER\n",
    "\n",
    "        )\n",
    "\n",
    "        return training_config\n",
    "\n"
   ]
  },
  {
   "cell_type": "code",
   "execution_count": 35,
   "metadata": {},
   "outputs": [],
   "source": [
    "import tensorflow as tf\n",
    "from pathlib import Path\n",
    "from sklearn.model_selection import train_test_split\n",
    "import pandas as pd\n",
    "\n",
    "class Training:\n",
    "    def __init__(self, config : TrainingConfig):\n",
    "        self.config = config\n",
    "    \n",
    "    def get_base_model(self):\n",
    "        self.model = tf.keras.models.load_model(\n",
    "            self.config.base_model_path\n",
    "        )\n",
    "\n",
    "    def save_model(self, path: Path, model: tf.keras.Model):\n",
    "        model.save(path)\n",
    "\n",
    "    def load_training_data(self,training_data_path):\n",
    "        try:\n",
    "            # Load your training data from the provided CSV file\n",
    "            data = pd.read_csv(training_data_path)\n",
    "\n",
    "            # Assuming your data has columns for features and a target variable 'Usage_kWh'\n",
    "            # Replace with the actual column names from your data\n",
    "            X = data.drop(columns=['Usage_kWh'])  # Exclude the target variable\n",
    "            y = data['Usage_kWh']  # Target variable\n",
    "\n",
    "          \n",
    "\n",
    "            return X,y\n",
    "        except Exception as e:\n",
    "            print(f\"Error loading training data: {str(e)}\")\n",
    "            return None, None\n",
    "\n",
    "    \n",
    "    \n",
    "    \n",
    "    def train(self):\n",
    "        self.get_base_model()\n",
    "        #Load your training data\n",
    "        X, y = self.load_training_data(self.config.training_data)\n",
    "        #print(y)\n",
    "        # Split your data into training and validation sets\n",
    "        X_train, X_valid, y_train, y_valid = train_test_split(X, y, test_size=0.2, random_state=42)\n",
    "        X_train = tf.convert_to_tensor(X_train, dtype=tf.float32)\n",
    "        X_valid = tf.convert_to_tensor(X_valid, dtype=tf.float32)\n",
    "        y_train = tf.convert_to_tensor(y_train, dtype=tf.float32)\n",
    "        y_valid = tf.convert_to_tensor(y_valid, dtype=tf.float32)\n",
    "        X_train = tf.reshape(X_train, [-1, 32, 14])\n",
    "        y_train = tf.reshape(y_train, [-1, 32, 1])\n",
    "        X_valid = tf.reshape(X_valid, [-1, 32, 14])\n",
    "        y_valid = tf.reshape(y_valid, [-1, 32, 1])\n",
    "        # Train your model\n",
    "        self.model.fit(X_train, y_train, epochs=self.config.params_epochs, validation_data=(X_valid, y_valid))\n",
    "\n",
    "        # Save your trained model\n",
    "        self.save_model(self.config.trained_model_path, self.model)"
   ]
  },
  {
   "cell_type": "code",
   "execution_count": null,
   "metadata": {},
   "outputs": [],
   "source": []
  },
  {
   "cell_type": "code",
   "execution_count": 36,
   "metadata": {},
   "outputs": [
    {
     "name": "stdout",
     "output_type": "stream",
     "text": [
      "2023-10-26 01:36:59,481: INFO : common :yaml file: electrycityconsumption\\config\\config.yaml loaded successfully\n",
      "2023-10-26 01:36:59,517: INFO : common :yaml file: electrycityconsumption\\params.yaml loaded successfully\n",
      "2023-10-26 01:36:59,532: INFO : common :created directory at: artifacts\n"
     ]
    },
    {
     "ename": "AttributeError",
     "evalue": "EagerTensor object has no attribute 'reshape'. \n        If you are looking for numpy-related methods, please run the following:\n        tf.experimental.numpy.experimental_enable_numpy_behavior()\n      ",
     "output_type": "error",
     "traceback": [
      "\u001b[1;31m---------------------------------------------------------------------------\u001b[0m",
      "\u001b[1;31mAttributeError\u001b[0m                            Traceback (most recent call last)",
      "\u001b[1;32md:\\Electricity-Consumption-Prediction\\research\\03_model_training.ipynb Cell 8\u001b[0m line \u001b[0;36m<cell line: 1>\u001b[1;34m()\u001b[0m\n\u001b[0;32m      <a href='vscode-notebook-cell:/d%3A/Electricity-Consumption-Prediction/research/03_model_training.ipynb#W5sZmlsZQ%3D%3D?line=5'>6</a>\u001b[0m     training\u001b[39m.\u001b[39mtrain()\n\u001b[0;32m      <a href='vscode-notebook-cell:/d%3A/Electricity-Consumption-Prediction/research/03_model_training.ipynb#W5sZmlsZQ%3D%3D?line=6'>7</a>\u001b[0m \u001b[39mexcept\u001b[39;00m \u001b[39mException\u001b[39;00m \u001b[39mas\u001b[39;00m e:\n\u001b[1;32m----> <a href='vscode-notebook-cell:/d%3A/Electricity-Consumption-Prediction/research/03_model_training.ipynb#W5sZmlsZQ%3D%3D?line=7'>8</a>\u001b[0m     \u001b[39mraise\u001b[39;00m e\n",
      "\u001b[1;32md:\\Electricity-Consumption-Prediction\\research\\03_model_training.ipynb Cell 8\u001b[0m line \u001b[0;36m<cell line: 1>\u001b[1;34m()\u001b[0m\n\u001b[0;32m      <a href='vscode-notebook-cell:/d%3A/Electricity-Consumption-Prediction/research/03_model_training.ipynb#W5sZmlsZQ%3D%3D?line=3'>4</a>\u001b[0m     training \u001b[39m=\u001b[39m Training(config\u001b[39m=\u001b[39mtraining_config)\n\u001b[0;32m      <a href='vscode-notebook-cell:/d%3A/Electricity-Consumption-Prediction/research/03_model_training.ipynb#W5sZmlsZQ%3D%3D?line=4'>5</a>\u001b[0m     training\u001b[39m.\u001b[39mget_base_model()\n\u001b[1;32m----> <a href='vscode-notebook-cell:/d%3A/Electricity-Consumption-Prediction/research/03_model_training.ipynb#W5sZmlsZQ%3D%3D?line=5'>6</a>\u001b[0m     training\u001b[39m.\u001b[39;49mtrain()\n\u001b[0;32m      <a href='vscode-notebook-cell:/d%3A/Electricity-Consumption-Prediction/research/03_model_training.ipynb#W5sZmlsZQ%3D%3D?line=6'>7</a>\u001b[0m \u001b[39mexcept\u001b[39;00m \u001b[39mException\u001b[39;00m \u001b[39mas\u001b[39;00m e:\n\u001b[0;32m      <a href='vscode-notebook-cell:/d%3A/Electricity-Consumption-Prediction/research/03_model_training.ipynb#W5sZmlsZQ%3D%3D?line=7'>8</a>\u001b[0m     \u001b[39mraise\u001b[39;00m e\n",
      "\u001b[1;32md:\\Electricity-Consumption-Prediction\\research\\03_model_training.ipynb Cell 8\u001b[0m line \u001b[0;36mTraining.train\u001b[1;34m(self)\u001b[0m\n\u001b[0;32m     <a href='vscode-notebook-cell:/d%3A/Electricity-Consumption-Prediction/research/03_model_training.ipynb#W5sZmlsZQ%3D%3D?line=46'>47</a>\u001b[0m y_train \u001b[39m=\u001b[39m tf\u001b[39m.\u001b[39mconvert_to_tensor(y_train, dtype\u001b[39m=\u001b[39mtf\u001b[39m.\u001b[39mfloat32)\n\u001b[0;32m     <a href='vscode-notebook-cell:/d%3A/Electricity-Consumption-Prediction/research/03_model_training.ipynb#W5sZmlsZQ%3D%3D?line=47'>48</a>\u001b[0m y_valid \u001b[39m=\u001b[39m tf\u001b[39m.\u001b[39mconvert_to_tensor(y_valid, dtype\u001b[39m=\u001b[39mtf\u001b[39m.\u001b[39mfloat32)\n\u001b[1;32m---> <a href='vscode-notebook-cell:/d%3A/Electricity-Consumption-Prediction/research/03_model_training.ipynb#W5sZmlsZQ%3D%3D?line=48'>49</a>\u001b[0m X_train\u001b[39m.\u001b[39;49mreshape(\u001b[39m-\u001b[39m\u001b[39m1\u001b[39m,\u001b[39m32\u001b[39m,\u001b[39m14\u001b[39m)\n\u001b[0;32m     <a href='vscode-notebook-cell:/d%3A/Electricity-Consumption-Prediction/research/03_model_training.ipynb#W5sZmlsZQ%3D%3D?line=49'>50</a>\u001b[0m y_train\u001b[39m.\u001b[39mreshape(\u001b[39m-\u001b[39m\u001b[39m1\u001b[39m,\u001b[39m32\u001b[39m,\u001b[39m14\u001b[39m)\n\u001b[0;32m     <a href='vscode-notebook-cell:/d%3A/Electricity-Consumption-Prediction/research/03_model_training.ipynb#W5sZmlsZQ%3D%3D?line=50'>51</a>\u001b[0m X_valid\u001b[39m.\u001b[39mreshape(\u001b[39m-\u001b[39m\u001b[39m1\u001b[39m,\u001b[39m32\u001b[39m,\u001b[39m14\u001b[39m)\n",
      "File \u001b[1;32mc:\\Users\\Chetan Patel\\anaconda3\\envs\\pyspark_env\\lib\\site-packages\\tensorflow\\python\\framework\\tensor.py:256\u001b[0m, in \u001b[0;36mTensor.__getattr__\u001b[1;34m(self, name)\u001b[0m\n\u001b[0;32m    252\u001b[0m \u001b[39mdef\u001b[39;00m \u001b[39m__getattr__\u001b[39m(\u001b[39mself\u001b[39m, name):\n\u001b[0;32m    253\u001b[0m   \u001b[39mif\u001b[39;00m name \u001b[39min\u001b[39;00m {\u001b[39m\"\u001b[39m\u001b[39mT\u001b[39m\u001b[39m\"\u001b[39m, \u001b[39m\"\u001b[39m\u001b[39mastype\u001b[39m\u001b[39m\"\u001b[39m, \u001b[39m\"\u001b[39m\u001b[39mravel\u001b[39m\u001b[39m\"\u001b[39m, \u001b[39m\"\u001b[39m\u001b[39mtranspose\u001b[39m\u001b[39m\"\u001b[39m, \u001b[39m\"\u001b[39m\u001b[39mreshape\u001b[39m\u001b[39m\"\u001b[39m, \u001b[39m\"\u001b[39m\u001b[39mclip\u001b[39m\u001b[39m\"\u001b[39m, \u001b[39m\"\u001b[39m\u001b[39msize\u001b[39m\u001b[39m\"\u001b[39m,\n\u001b[0;32m    254\u001b[0m               \u001b[39m\"\u001b[39m\u001b[39mtolist\u001b[39m\u001b[39m\"\u001b[39m, \u001b[39m\"\u001b[39m\u001b[39mdata\u001b[39m\u001b[39m\"\u001b[39m}:\n\u001b[0;32m    255\u001b[0m     \u001b[39m# TODO(wangpeng): Export the enable_numpy_behavior knob\u001b[39;00m\n\u001b[1;32m--> 256\u001b[0m     \u001b[39mraise\u001b[39;00m \u001b[39mAttributeError\u001b[39;00m(\n\u001b[0;32m    257\u001b[0m         \u001b[39mf\u001b[39m\u001b[39m\"\u001b[39m\u001b[39m{\u001b[39;00m\u001b[39mtype\u001b[39m(\u001b[39mself\u001b[39m)\u001b[39m.\u001b[39m\u001b[39m__name__\u001b[39m\u001b[39m}\u001b[39;00m\u001b[39m object has no attribute \u001b[39m\u001b[39m'\u001b[39m\u001b[39m{\u001b[39;00mname\u001b[39m}\u001b[39;00m\u001b[39m'\u001b[39m\u001b[39m. \u001b[39m\u001b[39m\"\u001b[39m \u001b[39m+\u001b[39m \u001b[39m\"\"\"\u001b[39m\n\u001b[0;32m    258\u001b[0m \u001b[39m      If you are looking for numpy-related methods, please run the following:\u001b[39m\n\u001b[0;32m    259\u001b[0m \u001b[39m      tf.experimental.numpy.experimental_enable_numpy_behavior()\u001b[39m\n\u001b[0;32m    260\u001b[0m \u001b[39m    \u001b[39m\u001b[39m\"\"\"\u001b[39m)\n\u001b[0;32m    261\u001b[0m   \u001b[39mself\u001b[39m\u001b[39m.\u001b[39m\u001b[39m__getattribute__\u001b[39m(name)\n",
      "\u001b[1;31mAttributeError\u001b[0m: EagerTensor object has no attribute 'reshape'. \n        If you are looking for numpy-related methods, please run the following:\n        tf.experimental.numpy.experimental_enable_numpy_behavior()\n      "
     ]
    }
   ],
   "source": [
    "try:\n",
    "    config = ConfigurationManager()\n",
    "    training_config = config.get_training_config()\n",
    "    training = Training(config=training_config)\n",
    "    training.get_base_model()\n",
    "    training.train()\n",
    "except Exception as e:\n",
    "    raise e"
   ]
  },
  {
   "cell_type": "code",
   "execution_count": null,
   "metadata": {},
   "outputs": [
    {
     "data": {
      "text/plain": [
       "'d:\\\\'"
      ]
     },
     "execution_count": 20,
     "metadata": {},
     "output_type": "execute_result"
    }
   ],
   "source": [
    "os.getcwd()"
   ]
  }
 ],
 "metadata": {
  "kernelspec": {
   "display_name": "pyspark_env",
   "language": "python",
   "name": "pyspark_env"
  },
  "language_info": {
   "codemirror_mode": {
    "name": "ipython",
    "version": 3
   },
   "file_extension": ".py",
   "mimetype": "text/x-python",
   "name": "python",
   "nbconvert_exporter": "python",
   "pygments_lexer": "ipython3",
   "version": "3.10.6"
  }
 },
 "nbformat": 4,
 "nbformat_minor": 2
}
