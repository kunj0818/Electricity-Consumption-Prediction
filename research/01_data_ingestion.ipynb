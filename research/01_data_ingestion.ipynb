{
 "cells": [
  {
   "cell_type": "code",
   "execution_count": 1,
   "metadata": {},
   "outputs": [],
   "source": [
    "import os\n"
   ]
  },
  {
   "cell_type": "code",
   "execution_count": 2,
   "metadata": {},
   "outputs": [],
   "source": [
    "os.chdir('../')"
   ]
  },
  {
   "cell_type": "code",
   "execution_count": 3,
   "metadata": {},
   "outputs": [],
   "source": [
    "from dataclasses import dataclass\n",
    "from pathlib import Path\n",
    "\n",
    "@dataclass(frozen=True)\n",
    "class DataIngestionConfig:\n",
    "    root_dir: Path\n",
    "    local_data_path: Path\n"
   ]
  },
  {
   "cell_type": "code",
   "execution_count": 4,
   "metadata": {},
   "outputs": [],
   "source": [
    "from electrycityconsumption.constants.constants import CONFIG_FILE_PATH, PARAMS_FILE_PATH\n",
    "from electrycityconsumption.utils.common import read_yaml, create_directories"
   ]
  },
  {
   "cell_type": "code",
   "execution_count": 5,
   "metadata": {},
   "outputs": [],
   "source": [
    "class ConfigurationManager:\n",
    "    def __init__(\n",
    "        self,\n",
    "        config_filepath = CONFIG_FILE_PATH,\n",
    "        params_filepath = PARAMS_FILE_PATH):\n",
    "\n",
    "        self.config = read_yaml(config_filepath)\n",
    "        self.params = read_yaml(params_filepath)\n",
    "\n",
    "        create_directories([self.config.artifacts_root])\n",
    "\n",
    "    def get_data_ingestion_config(self):\n",
    "        data_ingestion_config = DataIngestionConfig(\n",
    "            root_dir=self.config.data_ingestion.root_dir,\n",
    "            local_data_path=self.config.data_ingestion.local_data_path  # Changed attribute name\n",
    "        )\n",
    "\n",
    "        return data_ingestion_config\n"
   ]
  },
  {
   "cell_type": "code",
   "execution_count": 8,
   "metadata": {},
   "outputs": [],
   "source": [
    "import os\n",
    "import shutil\n",
    "from electrycityconsumption.electricity_consumption_prediction import logger_1  # Assuming you have the correct import statement\n",
    "\n",
    "class DataIngestion:\n",
    "    def __init__(self, config):\n",
    "        self.config = config\n",
    "\n",
    "    def copy_local_data(self):\n",
    "        \"\"\"\n",
    "        Copies the local .csv file to the data directory.\n",
    "        \"\"\"\n",
    "        local_file_path = self.config.local_data_path\n",
    "        print(local_file_path)\n",
    "        destination_dir = self.config.root_dir\n",
    "        os.makedirs(destination_dir, exist_ok=True)\n",
    "\n",
    "        logger_1.info(f\"Copying local data file from {local_file_path} to {destination_dir}\")\n",
    "        \n",
    "        try:\n",
    "            shutil.copy(local_file_path, destination_dir)\n",
    "            logger_1.info(\"Data file copied successfully.\")\n",
    "        except Exception as e:\n",
    "            logger_1.error(f\"Error copying data file: {str(e)}\")"
   ]
  },
  {
   "cell_type": "code",
   "execution_count": 7,
   "metadata": {},
   "outputs": [
    {
     "name": "stdout",
     "output_type": "stream",
     "text": [
      "2023-10-24 10:00:47,234: INFO : common :yaml file: electrycityconsumption\\config\\config.yaml loaded successfully\n",
      "2023-10-24 10:00:47,251: INFO : common :yaml file: electrycityconsumption\\params.yaml loaded successfully\n",
      "2023-10-24 10:00:47,254: INFO : common :created directory at: artifacts\n",
      "2023-10-24 10:00:47,256: INFO : 810401280 :Copying local data file from D:/Electricity-Consumption-Prediction/Dataset/Steel_industry_data.csv to artifacts/data_ingestion\n",
      "2023-10-24 10:00:47,421: INFO : 810401280 :Data file copied successfully.\n"
     ]
    }
   ],
   "source": [
    "try:\n",
    "    # Load configuration\n",
    "    config = ConfigurationManager()\n",
    "    data_ingestion_config = config.get_data_ingestion_config()\n",
    "\n",
    "    # Initialize DataIngestion object\n",
    "    data_ingestion = DataIngestion(config=data_ingestion_config)\n",
    "\n",
    "    # Copy the local data file\n",
    "    data_ingestion.copy_local_data()\n",
    "except Exception as e:\n",
    "    raise"
   ]
  }
 ],
 "metadata": {
  "kernelspec": {
   "display_name": "pyspark_env",
   "language": "python",
   "name": "pyspark_env"
  },
  "language_info": {
   "codemirror_mode": {
    "name": "ipython",
    "version": 3
   },
   "file_extension": ".py",
   "mimetype": "text/x-python",
   "name": "python",
   "nbconvert_exporter": "python",
   "pygments_lexer": "ipython3",
   "version": "3.10.6"
  }
 },
 "nbformat": 4,
 "nbformat_minor": 2
}
